{
 "cells": [
  {
   "cell_type": "markdown",
   "id": "2239d05a",
   "metadata": {},
   "source": [
    "# control_structures_exercises"
   ]
  },
  {
   "cell_type": "markdown",
   "id": "8d47bb88",
   "metadata": {},
   "source": [
    "1. Conditional Basics\n",
    "\n",
    "    a. prompt the user for a day of the week, print out whether the day is Monday or not\n",
    "\n",
    "    b. prompt the user for a day of the week, print out whether the day is a weekday or a weekend\n",
    "\n",
    "    c. create variables and make up values for\n",
    "\n",
    "        - the number of hours worked in one week\n",
    "        - the hourly rate\n",
    "        - how much the week's paycheck will be\n",
    "        \n",
    "    d. write the python code that calculates the weekly paycheck. You get paid time and a half if you work more than 40 hours"
   ]
  },
  {
   "cell_type": "code",
   "execution_count": 8,
   "id": "9f793437",
   "metadata": {},
   "outputs": [
    {
     "name": "stdout",
     "output_type": "stream",
     "text": [
      "What day of the week is it?Monday\n",
      "Today is Monday!\n"
     ]
    }
   ],
   "source": [
    "user_input = input(\"What day of the week is it?\")\n",
    "if user_input == 'Monday':\n",
    "    print(f'Today is {user_input}!')\n",
    "else:\n",
    "    print(f'Not Today!')"
   ]
  },
  {
   "cell_type": "code",
   "execution_count": null,
   "id": "2f8de66f",
   "metadata": {},
   "outputs": [],
   "source": [
    "user_input = input(f\"What day of the week is it?\")\n",
    "if user_input == 'Monday' or 'Tuesday' or 'Wednesday' or 'Thursday' or 'Friday':\n",
    "    print(f'{user_input} is a weekday.')\n",
    "elif user_input == 'Saturday' or 'Sunday':\n",
    "    print(f'{user_input} it is the Weekend!')"
   ]
  },
  {
   "cell_type": "code",
   "execution_count": null,
   "id": "37445a25",
   "metadata": {},
   "outputs": [],
   "source": []
  }
 ],
 "metadata": {
  "kernelspec": {
   "display_name": "Python 3",
   "language": "python",
   "name": "python3"
  },
  "language_info": {
   "codemirror_mode": {
    "name": "ipython",
    "version": 3
   },
   "file_extension": ".py",
   "mimetype": "text/x-python",
   "name": "python",
   "nbconvert_exporter": "python",
   "pygments_lexer": "ipython3",
   "version": "3.8.8"
  }
 },
 "nbformat": 4,
 "nbformat_minor": 5
}
