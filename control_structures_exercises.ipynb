{
 "cells": [
  {
   "cell_type": "markdown",
   "id": "2239d05a",
   "metadata": {},
   "source": [
    "# control_structures_exercises"
   ]
  },
  {
   "cell_type": "markdown",
   "id": "8d47bb88",
   "metadata": {},
   "source": [
    "1. Conditional Basics\n",
    "\n",
    "    a. prompt the user for a day of the week, print out whether the day is Monday or not\n",
    "\n",
    "    b. prompt the user for a day of the week, print out whether the day is a weekday or a weekend\n",
    "\n",
    "    c. create variables and make up values for\n",
    "\n",
    "        - the number of hours worked in one week\n",
    "        - the hourly rate\n",
    "        - how much the week's paycheck will be\n",
    "        \n",
    "    d. write the python code that calculates the weekly paycheck. You get paid time and a half if you work more than 40 hours"
   ]
  },
  {
   "cell_type": "markdown",
   "id": "496be1b6",
   "metadata": {},
   "source": [
    "1.a. Propmt the user for a day of the week, print out whether the day is Monday or not."
   ]
  },
  {
   "cell_type": "code",
   "execution_count": null,
   "id": "3251d4d2",
   "metadata": {},
   "outputs": [],
   "source": [
    "user_input = input(\"What day of the week is it?\")\n",
    "if user_input == 'Monday':\n",
    "    print(f'Today is {user_input}!')\n",
    "else:\n",
    "    print(f'Not Today!')"
   ]
  },
  {
   "cell_type": "markdown",
   "id": "f91286c3",
   "metadata": {},
   "source": [
    "1.b. prompt the user for a day of the week, print out whether the day is a weekday or a weekend"
   ]
  },
  {
   "cell_type": "code",
   "execution_count": 10,
   "id": "2f8de66f",
   "metadata": {},
   "outputs": [
    {
     "name": "stdout",
     "output_type": "stream",
     "text": [
      "What day of the week is it?Sunday\n",
      "Sunday - It's the Weekend!\n"
     ]
    }
   ],
   "source": [
    "user_input = input(f\"What day of the week is it?\")\n",
    "if user_input == 'Monday':\n",
    "    print(f'{user_input} is a Weekday!')\n",
    "elif user_input == 'Tuesday':\n",
    "    print(f'{user_input} is a Weekday!')\n",
    "elif user_input == 'Wednesday':\n",
    "    print(f'{user_input} is a Weekday!')\n",
    "elif user_input == 'Thursday':\n",
    "    print(f'{user_input} is a Weekday!')\n",
    "elif user_input == 'Friday':\n",
    "    print(f'{user_input} is a Weekday!')\n",
    "elif user_input == 'Saturday':\n",
    "    print(f\"{user_input} - It's the Weekend!\")\n",
    "elif user_input == 'Sunday':\n",
    "    print(f\"{user_input} - It's the Weekend!\")\n",
    "else:\n",
    "    print(f\"You don't know your days of the week!\")\n",
    "    "
   ]
  },
  {
   "cell_type": "markdown",
   "id": "6ea38133",
   "metadata": {},
   "source": [
    "### Question\n",
    "- Would something like this work?"
   ]
  },
  {
   "cell_type": "code",
   "execution_count": 19,
   "id": "94a54763",
   "metadata": {},
   "outputs": [
    {
     "name": "stdout",
     "output_type": "stream",
     "text": [
      "What day of the week is it?tuesday\n"
     ]
    }
   ],
   "source": [
    "user_input = input(\"What day of the week is it?\")\n",
    "weekday = [\"Monday\", \"Tuesday\", \"Wednesday\", \"Thursday\", \"Friday\",\"Saturday\", \"Sunday\"]\n",
    "weekend = [\"Saturday\", \"Sunday\"]\n",
    "while user_input == ???\n",
    "    for the_day_of_week in weekday:\n",
    "        if the_day_of_week in weekend:\n",
    "            print(f\"If it's {the_day_of_week} it must be the Weekend!\")\n",
    "        else:\n",
    "            print(f\"{the_day_of_week} is a Weekday\")"
   ]
  },
  {
   "cell_type": "markdown",
   "id": "b1bb0e57",
   "metadata": {},
   "source": [
    "1.c. create variables and make up values for\n",
    "\n",
    " - the number of hours worked in one week\n",
    " - the hourly rate\n",
    " - how much the week's paycheck will be"
   ]
  },
  {
   "cell_type": "code",
   "execution_count": 33,
   "id": "1a75e387",
   "metadata": {},
   "outputs": [],
   "source": [
    "hours = 45\n",
    "rate = 10\n",
    "overtime_rate = 10 * 1.5"
   ]
  },
  {
   "cell_type": "markdown",
   "id": "aab9317e",
   "metadata": {},
   "source": [
    "1.d. write the python code that calculates the weekly paycheck. You get paid time and a half if you work more than 40 hours"
   ]
  },
  {
   "cell_type": "code",
   "execution_count": 34,
   "id": "3cb9680a",
   "metadata": {},
   "outputs": [
    {
     "name": "stdout",
     "output_type": "stream",
     "text": [
      "525.0\n"
     ]
    }
   ],
   "source": [
    "if hours <= 40:\n",
    "    print(hours * rate)\n",
    "elif hours > 40:\n",
    "    print((hours * rate) + (overtime_rate * (hours - 40)))"
   ]
  },
  {
   "cell_type": "markdown",
   "id": "b45d0441",
   "metadata": {},
   "source": [
    "# Loop Basics\n",
    "\n",
    "## 2.a. While\n",
    "\n",
    "- Create an integer variable i with a value of 5.\n",
    "- Create a while loop that runs so long as i is less than or equal to 15\n",
    "- Each loop iteration, output the current value of i, then increment i by one.\n",
    "Your output should look like this:\n",
    "5\n",
    "6\n",
    "7\n",
    "8\n",
    "9\n",
    "10\n",
    "11\n",
    "12\n",
    "13\n",
    "14\n",
    "15"
   ]
  },
  {
   "cell_type": "code",
   "execution_count": 37,
   "id": "4d51e178",
   "metadata": {},
   "outputs": [
    {
     "name": "stdout",
     "output_type": "stream",
     "text": [
      "5\n",
      "6\n",
      "7\n",
      "8\n",
      "9\n",
      "10\n",
      "11\n",
      "12\n",
      "13\n",
      "14\n",
      "15\n"
     ]
    }
   ],
   "source": [
    "i = 5\n",
    "while i <= 15:\n",
    "    print (i)\n",
    "    i += 1"
   ]
  },
  {
   "cell_type": "markdown",
   "id": "98e3915d",
   "metadata": {},
   "source": [
    "2.a. (continued)\n",
    "- Create a while loop that will count by 2's starting with 0 and ending at 100. Follow each number with a new line.\n",
    " \n",
    " I also tried:\n",
    " for n in range (100):\n",
    " -  if n % != 0:\n",
    " - continue\n",
    " - print(n)"
   ]
  },
  {
   "cell_type": "markdown",
   "id": "2075ca34",
   "metadata": {},
   "source": [
    "### range() inside the () is start, stop, and step. In this instance the step is counting down by -5\n",
    "2.a. \n",
    "-Alter your loop to count backwards by 5's from 100 to -10.\n",
    "AND\n",
    "-Write a loop that uses print to create the output shown below."
   ]
  },
  {
   "cell_type": "code",
   "execution_count": 116,
   "id": "68452489",
   "metadata": {},
   "outputs": [
    {
     "name": "stdout",
     "output_type": "stream",
     "text": [
      "100\n",
      "95\n",
      "90\n",
      "85\n",
      "80\n",
      "75\n",
      "70\n",
      "65\n",
      "60\n",
      "55\n",
      "50\n",
      "45\n",
      "40\n",
      "35\n",
      "30\n",
      "25\n",
      "20\n",
      "15\n",
      "10\n",
      "5\n",
      "0\n",
      "-5\n",
      "-10\n"
     ]
    }
   ],
   "source": [
    "for n in range(100, -15, -5):\n",
    "    print(n)"
   ]
  },
  {
   "cell_type": "code",
   "execution_count": 109,
   "id": "a8f28d74",
   "metadata": {},
   "outputs": [
    {
     "name": "stdout",
     "output_type": "stream",
     "text": [
      "100\n",
      "95\n",
      "90\n",
      "85\n",
      "80\n",
      "75\n",
      "70\n",
      "65\n",
      "60\n",
      "55\n",
      "50\n",
      "45\n",
      "40\n",
      "35\n",
      "30\n",
      "25\n",
      "20\n",
      "15\n",
      "10\n",
      "5\n"
     ]
    }
   ],
   "source": [
    "for n in range(100, 0, -1):\n",
    "    if n % 5 != 0:\n",
    "        continue\n",
    "    print(n)"
   ]
  },
  {
   "cell_type": "markdown",
   "id": "e5a83b76",
   "metadata": {},
   "source": [
    "### Questions:\n",
    "- How do i get it to do what it says to do because I am obvioulsy not doing it correctly.\n",
    "- Why doesn't my code stop at a number under 10? Why does it stop at 100?\n",
    "2.a. Create a while loop that starts at 2, and displays the number squared on each line while the number is less than 1,000,000. Output should equal:\n",
    " 2\n",
    " 4\n",
    " 16\n",
    " 256\n",
    " 65536"
   ]
  },
  {
   "cell_type": "code",
   "execution_count": 93,
   "id": "21f3e651",
   "metadata": {},
   "outputs": [
    {
     "name": "stdout",
     "output_type": "stream",
     "text": [
      "4\n",
      "16\n",
      "36\n",
      "64\n",
      "100\n"
     ]
    }
   ],
   "source": [
    "x = 2\n",
    "while x <= 10:\n",
    "    print(x * x)\n",
    "    x += 2"
   ]
  },
  {
   "cell_type": "markdown",
   "id": "578a2d4e",
   "metadata": {},
   "source": [
    "## 2.b For LOOPS"
   ]
  },
  {
   "cell_type": "markdown",
   "id": "9dbd426c",
   "metadata": {},
   "source": [
    "2.b.i. Write some code that prompts the user for a number, then shows a multiplication table up through 10 for that number.\n",
    "\n",
    "For example, if the user enters 7, your program should output:\n",
    "\n",
    "\n",
    "7 x 1 = 7\n",
    "7 x 2 = 14\n",
    "7 x 3 = 21\n",
    "7 x 4 = 28\n",
    "7 x 5 = 35\n",
    "7 x 6 = 42\n",
    "7 x 7 = 49\n",
    "7 x 8 = 56\n",
    "7 x 9 = 63\n",
    "7 x 10 = 70"
   ]
  },
  {
   "cell_type": "code",
   "execution_count": 118,
   "id": "85c69306",
   "metadata": {},
   "outputs": [
    {
     "name": "stdout",
     "output_type": "stream",
     "text": [
      "Enter a number: 4\n",
      "4 X 1 =  4\n",
      "4 X 2 =  8\n",
      "4 X 3 =  12\n",
      "4 X 4 =  16\n",
      "4 X 5 =  20\n",
      "4 X 6 =  24\n",
      "4 X 7 =  28\n",
      "4 X 8 =  32\n",
      "4 X 9 =  36\n",
      "4 X 10 =  40\n"
     ]
    }
   ],
   "source": [
    "user_input = int(input(\"Enter a number: \"))\n",
    "for mul in range(1, 11):\n",
    "    print(f\"{user_input} X {mul} = \", (user_input * mul))\n"
   ]
  },
  {
   "cell_type": "markdown",
   "id": "5a7abaf7",
   "metadata": {},
   "source": [
    "### Question\n",
    "- How?\n",
    "\n",
    "2.b.ii. Create a for loop that uses print to create the output shown below.1\n",
    "22\n",
    "333\n",
    "4444\n",
    "55555\n",
    "666666\n",
    "7777777\n",
    "88888888\n",
    "999999999"
   ]
  },
  {
   "cell_type": "code",
   "execution_count": 153,
   "id": "f61e86fd",
   "metadata": {},
   "outputs": [
    {
     "name": "stdout",
     "output_type": "stream",
     "text": [
      "1\n",
      "11\n",
      "111\n",
      "1111\n",
      "11111\n",
      "111111\n",
      "1111111\n",
      "11111111\n",
      "111111111\n"
     ]
    }
   ],
   "source": [
    "x = \"1\"\n",
    "for y in range (1,10):\n",
    "    print(x * y)\n",
    "    "
   ]
  },
  {
   "cell_type": "markdown",
   "id": "3ac10584",
   "metadata": {},
   "source": [
    "### Question\n",
    "- Not sure how to combine while and if with user input.\n",
    "\n",
    "2.c.i. Break and Continue\n",
    "Prompt the user for an odd number between 1 and 50. Use a loop and a break statement to continue prompting the user if they enter invalid input. (Hint: use the isdigit method on strings to determine this). Use a loop and the continue statement to output all the odd numbers between 1 and 50, except for the number the user entered.\n",
    "\n",
    "Your output should look like this:\n",
    "\n",
    "\n",
    "Number to skip is: 27\n",
    "\n",
    "Here is an odd number: 1\n",
    "Here is an odd number: 3\n",
    "Here is an odd number: 5\n",
    "Here is an odd number: 7\n",
    "Here is an odd number: 9\n",
    "Here is an odd number: 11\n",
    "Here is an odd number: 13\n",
    "Here is an odd number: 15\n",
    "Here is an odd number: 17\n",
    "Here is an odd number: 19\n",
    "Here is an odd number: 21\n",
    "Here is an odd number: 23\n",
    "Here is an odd number: 25\n",
    "Yikes! Skipping number: 27\n",
    "Here is an odd number: 29\n",
    "Here is an odd number: 31\n",
    "Here is an odd number: 33\n",
    "Here is an odd number: 35\n",
    "Here is an odd number: 37\n",
    "Here is an odd number: 39\n",
    "Here is an odd number: 41\n",
    "Here is an odd number: 43\n",
    "Here is an odd number: 45\n",
    "Here is an odd number: 47\n",
    "Here is an odd number: 49"
   ]
  },
  {
   "cell_type": "code",
   "execution_count": null,
   "id": "e8200018",
   "metadata": {},
   "outputs": [],
   "source": [
    "# Doesn't work. Not sure how to work the if statement with input.\n",
    "user_input = input(\"Enter an odd number between 1 and 50: \")\n",
    "while user_input.isdigit() == False:\n",
    "    print(f\"Enter an odd number.\")\n",
    "    user_input = input(\"Enter an odd number between 1 and 50: \")\n",
    "    for num in range(1,10):\n",
    "        if num % 2 == 0:\n",
    "            continue\n",
    "            print(f\"Here is an odd number: {user_input}\")\n"
   ]
  },
  {
   "cell_type": "code",
   "execution_count": null,
   "id": "b23c828c",
   "metadata": {},
   "outputs": [],
   "source": []
  },
  {
   "cell_type": "code",
   "execution_count": null,
   "id": "8198b1fa",
   "metadata": {},
   "outputs": [],
   "source": []
  }
 ],
 "metadata": {
  "kernelspec": {
   "display_name": "Python 3",
   "language": "python",
   "name": "python3"
  },
  "language_info": {
   "codemirror_mode": {
    "name": "ipython",
    "version": 3
   },
   "file_extension": ".py",
   "mimetype": "text/x-python",
   "name": "python",
   "nbconvert_exporter": "python",
   "pygments_lexer": "ipython3",
   "version": "3.8.8"
  }
 },
 "nbformat": 4,
 "nbformat_minor": 5
}
