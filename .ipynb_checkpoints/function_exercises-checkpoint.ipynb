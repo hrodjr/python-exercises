{
 "cells": [
  {
   "cell_type": "markdown",
   "id": "5e3ccdec",
   "metadata": {},
   "source": [
    "# Function Exercises\n",
    "\n",
    "1. Define a function named is_two. It should accept one input and return True if the passed input is either the number or the string 2, False otherwise."
   ]
  },
  {
   "cell_type": "code",
   "execution_count": 48,
   "id": "3797786d",
   "metadata": {},
   "outputs": [
    {
     "data": {
      "text/plain": [
       "False"
      ]
     },
     "execution_count": 48,
     "metadata": {},
     "output_type": "execute_result"
    }
   ],
   "source": [
    "def is_two(n):\n",
    "    return n == 2 or n == \"2\"\n",
    "n = 3\n",
    "is_two(n)"
   ]
  },
  {
   "cell_type": "markdown",
   "id": "6738b8f4",
   "metadata": {},
   "source": [
    "2. Define a function named is_vowel. It should return True if the passed string is a vowel, False otherwise."
   ]
  },
  {
   "cell_type": "code",
   "execution_count": 56,
   "id": "c4c19fd2",
   "metadata": {},
   "outputs": [
    {
     "data": {
      "text/plain": [
       "True"
      ]
     },
     "execution_count": 56,
     "metadata": {},
     "output_type": "execute_result"
    }
   ],
   "source": [
    "def is_vowel(str):\n",
    "    return str.lower() in \"aeiou\"\n",
    "str = \"A\"\n",
    "is_vowel(str)"
   ]
  },
  {
   "cell_type": "markdown",
   "id": "6a4443a2",
   "metadata": {},
   "source": [
    "3. Define a function named is_consonant. It should return True if the passed string is a consonant, False otherwise. Use your is_vowel function to accomplish this."
   ]
  },
  {
   "cell_type": "code",
   "execution_count": 65,
   "id": "5a3bb292",
   "metadata": {},
   "outputs": [
    {
     "data": {
      "text/plain": [
       "False"
      ]
     },
     "execution_count": 65,
     "metadata": {},
     "output_type": "execute_result"
    }
   ],
   "source": [
    "def is_consonant(str):\n",
    "    return str.lower() not in \"aeiou\"\n",
    "str = \"a\"\n",
    "is_consonant(str)"
   ]
  },
  {
   "cell_type": "markdown",
   "id": "dfe4d7d1",
   "metadata": {},
   "source": [
    "4. Define a function that accepts a string that is a word. The function should capitalize the first letter of the word if the word starts with a consonant."
   ]
  },
  {
   "cell_type": "code",
   "execution_count": 20,
   "id": "39ea0f81",
   "metadata": {},
   "outputs": [
    {
     "data": {
      "text/plain": [
       "'Hector'"
      ]
     },
     "execution_count": 20,
     "metadata": {},
     "output_type": "execute_result"
    }
   ],
   "source": [
    "word = 'hector'\n",
    "\n",
    "if word[0] not in 'aeiou':\n",
    "        word = word.capitalize()\n",
    "word"
   ]
  },
  {
   "cell_type": "code",
   "execution_count": 23,
   "id": "92fb0a8b",
   "metadata": {},
   "outputs": [
    {
     "data": {
      "text/plain": [
       "'Nope'"
      ]
     },
     "execution_count": 23,
     "metadata": {},
     "output_type": "execute_result"
    }
   ],
   "source": [
    "def cap_word(word):\n",
    "    if word[0] not in 'aeiou':\n",
    "        word = word.capitalize()\n",
    "    return word\n",
    "\n",
    "word = \"nope\"\n",
    "cap_word(word)"
   ]
  },
  {
   "cell_type": "markdown",
   "id": "8e8c683f",
   "metadata": {},
   "source": [
    "5. Define a function named calculate_tip. It should accept a tip percentage (a number between 0 and 1) and the bill total, and return the amount to tip."
   ]
  },
  {
   "cell_type": "code",
   "execution_count": 25,
   "id": "4cac1139",
   "metadata": {},
   "outputs": [
    {
     "data": {
      "text/plain": [
       "1.0"
      ]
     },
     "execution_count": 25,
     "metadata": {},
     "output_type": "execute_result"
    }
   ],
   "source": [
    "#first worked out the equation\n",
    "bill = 10\n",
    "tip_percent = 0.10\n",
    "\n",
    "bill * tip_percent"
   ]
  },
  {
   "cell_type": "code",
   "execution_count": 27,
   "id": "1745671f",
   "metadata": {},
   "outputs": [
    {
     "data": {
      "text/plain": [
       "1.0"
      ]
     },
     "execution_count": 27,
     "metadata": {},
     "output_type": "execute_result"
    }
   ],
   "source": [
    "def calculate_tip(bill, tip_percent): #defined (def) the function (calculate_tip) and set the parameters inside the parens \"bill\" and \"tip_percent\"\n",
    "    return bill * tip_percent #Function Body \"return\" sets the equation up for the answer\n",
    "\n",
    "bill = 10 #sets the bill amount\n",
    "tip_percent = 0.10 #sets the percentage\n",
    "\n",
    "calculate_tip(bill, tip_percent) #runs the equation set by the Function Body"
   ]
  },
  {
   "cell_type": "markdown",
   "id": "e2a0c495",
   "metadata": {},
   "source": [
    "6. Define a function named apply_discount. It should accept a original price, and a discount percentage, and return the price after the discount is applied."
   ]
  },
  {
   "cell_type": "code",
   "execution_count": 33,
   "id": "1ab2d6f9",
   "metadata": {},
   "outputs": [
    {
     "data": {
      "text/plain": [
       "8.0"
      ]
     },
     "execution_count": 33,
     "metadata": {},
     "output_type": "execute_result"
    }
   ],
   "source": [
    "# first worked out the equation\n",
    "price = 10\n",
    "discount = .2\n",
    "\n",
    "price - (price * discount)"
   ]
  },
  {
   "cell_type": "code",
   "execution_count": 35,
   "id": "662e0106",
   "metadata": {},
   "outputs": [
    {
     "data": {
      "text/plain": [
       "8.0"
      ]
     },
     "execution_count": 35,
     "metadata": {},
     "output_type": "execute_result"
    }
   ],
   "source": [
    "def apply_discount(price, discount): #defined (def) the function (apply_discount) and set the parameters inside the parens \"price\" and \"discount\"\n",
    "    return price - (price * discount) #Function Body \"return\" sets the equation up for the answer\n",
    "\n",
    "price = 10 #sets the price\n",
    "discount = .2 #sets the discount\n",
    "\n",
    "apply_discount(price, discount) #runs the equation set by the Function Body"
   ]
  },
  {
   "cell_type": "markdown",
   "id": "e26ee58a",
   "metadata": {},
   "source": [
    "7. Define a function named handle_commas. It should accept a string that is a number that contains commas in it as input, and return a number as output."
   ]
  },
  {
   "cell_type": "code",
   "execution_count": 51,
   "id": "c599bf98",
   "metadata": {},
   "outputs": [
    {
     "data": {
      "text/plain": [
       "11.0"
      ]
     },
     "execution_count": 51,
     "metadata": {},
     "output_type": "execute_result"
    }
   ],
   "source": [
    "str = \"1,,1\" #setting the string for the function\n",
    "number = \" \" #place holder for the output\n",
    "\n",
    "for char in str: #\"for\" loop in order to loop through each character. \"char\" variable set for each character \"in\" the \"string\"\n",
    "    if char not in \",\": #\"if\" condition to check each \"char\" that is NOT (not in) a comma\n",
    "        number += char #takes the above place holder \"number\" and checks each character by character\n",
    "float(number) #returns the output \"place holder - number\" with a decimal"
   ]
  },
  {
   "cell_type": "code",
   "execution_count": 52,
   "id": "1e9a4f04",
   "metadata": {},
   "outputs": [],
   "source": [
    "def handle_commas(str):\n",
    "    number = \" \"\n",
    "    for char in str:\n",
    "        if char not in \",\":\n",
    "            number += char\n",
    "    return float(number)"
   ]
  },
  {
   "cell_type": "code",
   "execution_count": 53,
   "id": "5f9a8431",
   "metadata": {},
   "outputs": [
    {
     "data": {
      "text/plain": [
       "11234.0"
      ]
     },
     "execution_count": 53,
     "metadata": {},
     "output_type": "execute_result"
    }
   ],
   "source": [
    "str = \"1,1,2,,,,3,,4\"\n",
    "handle_commas(str)"
   ]
  },
  {
   "cell_type": "markdown",
   "id": "66950a7a",
   "metadata": {},
   "source": [
    "8. Define a function named get_letter_grade. It should accept a number and return the letter grade associated with that number (A-F)."
   ]
  },
  {
   "cell_type": "code",
   "execution_count": 54,
   "id": "219f1803",
   "metadata": {},
   "outputs": [],
   "source": [
    "def get_letter_grade(number): #define \"def\" the function \"get_letter_grade\" and sets the \"number\" as the parameter. \"number\" is the grade number.\n",
    "    if number <= '59':#\"if\" condition to check the grade number.\n",
    "        print('F')\n",
    "    elif number <= '69':\n",
    "        print('D')\n",
    "    elif number <= '79':\n",
    "        print('E')\n",
    "    elif number <= '89':\n",
    "        print('B')\n",
    "    else:\n",
    "        print('A')"
   ]
  },
  {
   "cell_type": "code",
   "execution_count": 57,
   "id": "387a6c86",
   "metadata": {},
   "outputs": [
    {
     "name": "stdout",
     "output_type": "stream",
     "text": [
      "F\n"
     ]
    }
   ],
   "source": [
    "number = \"49\" #sets the grade number\n",
    "get_letter_grade(number)#returns the letter grade"
   ]
  },
  {
   "cell_type": "markdown",
   "id": "9aa334bb",
   "metadata": {},
   "source": [
    "9. Define a function named remove_vowels that accepts a string and returns a string with all the vowels removed."
   ]
  },
  {
   "cell_type": "code",
   "execution_count": 69,
   "id": "e1d5fd24",
   "metadata": {},
   "outputs": [],
   "source": [
    "def remove_vowels(str): #defines \"def\" the function \"remove_vowels\" and sets the parameter \"str\" -  \n",
    "    letters = \"\" #place holder for the letters in the \"str\"\n",
    "    for char in str: #\"for\" each character \"char\" in the \"str\" - sets the condition to search each character in the strg\n",
    "        if char.lower() not in \"aeiou\": #\"if\" the character (.lower sets each letter in the string to lower case) is \"not in\" the listed vowels 'aeiou'\n",
    "            letters += char #checks each letter in the string of characters\n",
    "    return letters\n",
    "            "
   ]
  },
  {
   "cell_type": "code",
   "execution_count": 70,
   "id": "ae5c8e1e",
   "metadata": {},
   "outputs": [
    {
     "data": {
      "text/plain": [
       "'bcdf'"
      ]
     },
     "execution_count": 70,
     "metadata": {},
     "output_type": "execute_result"
    }
   ],
   "source": [
    "str = (\"Aabecidofu\") #the string in which the function is checking\n",
    "remove_vowels(str) #returns the \"str\" without the vowels"
   ]
  },
  {
   "cell_type": "markdown",
   "id": "bbca2fe0",
   "metadata": {},
   "source": [
    "10. Define a function named normalize_name. It should accept a string and return a valid python identifier, that is:\n",
    "- anything that is not a valid python identifier should be removed\n",
    "- leading and trailing whitespace should be removed\n",
    "- everything should be lowercase\n",
    "- spaces should be replaced with underscores\n",
    "- for example:\n",
    "    - Name will become name\n",
    "    - First Name will become first_name\n",
    "    - % Completed will become completed"
   ]
  },
  {
   "cell_type": "code",
   "execution_count": 88,
   "id": "069305c6",
   "metadata": {},
   "outputs": [
    {
     "data": {
      "text/plain": [
       "'noW0ay123'"
      ]
     },
     "execution_count": 88,
     "metadata": {},
     "output_type": "execute_result"
    }
   ],
   "source": [
    "def normalize_name(str):\n",
    "    normal = \"\"\n",
    "    for char in str:\n",
    "        if char.isalnum() == True:\n",
    "            normal += char\n",
    "    return normal\n",
    "        \n",
    "        \n",
    "str = \" n#@o !W@#$%^&*(<>?/a:;[}]{\\|y 1*2,,3? \"\n",
    "normalize_name(str)"
   ]
  },
  {
   "cell_type": "code",
   "execution_count": null,
   "id": "a5a35652",
   "metadata": {},
   "outputs": [],
   "source": []
  }
 ],
 "metadata": {
  "kernelspec": {
   "display_name": "Python 3",
   "language": "python",
   "name": "python3"
  },
  "language_info": {
   "codemirror_mode": {
    "name": "ipython",
    "version": 3
   },
   "file_extension": ".py",
   "mimetype": "text/x-python",
   "name": "python",
   "nbconvert_exporter": "python",
   "pygments_lexer": "ipython3",
   "version": "3.8.8"
  }
 },
 "nbformat": 4,
 "nbformat_minor": 5
}
