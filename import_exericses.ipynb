{
 "cells": [
  {
   "cell_type": "markdown",
   "id": "a528f0a7",
   "metadata": {},
   "source": [
    "## 2. Read about and use the itertools module from the python standard library to help you solve the following problems:"
   ]
  },
  {
   "cell_type": "markdown",
   "id": "e5ed195b",
   "metadata": {},
   "source": [
    "How many different ways can you combine the letters from \"abc\" with the numbers 1, 2, and 3?"
   ]
  },
  {
   "cell_type": "markdown",
   "id": "90d41389",
   "metadata": {},
   "source": [
    "4"
   ]
  },
  {
   "cell_type": "markdown",
   "id": "e6c26cca",
   "metadata": {},
   "source": [
    "How many different combinations are there of 2 letters from \"abcd\"?"
   ]
  },
  {
   "cell_type": "markdown",
   "id": "6e2cc514",
   "metadata": {},
   "source": [
    "6"
   ]
  },
  {
   "cell_type": "markdown",
   "id": "d32343eb",
   "metadata": {},
   "source": [
    "How many different permutations are there of 2 letters from \"abcd\"?"
   ]
  },
  {
   "cell_type": "markdown",
   "id": "db9b8095",
   "metadata": {},
   "source": [
    "12"
   ]
  }
 ],
 "metadata": {
  "kernelspec": {
   "display_name": "Python 3",
   "language": "python",
   "name": "python3"
  },
  "language_info": {
   "codemirror_mode": {
    "name": "ipython",
    "version": 3
   },
   "file_extension": ".py",
   "mimetype": "text/x-python",
   "name": "python",
   "nbconvert_exporter": "python",
   "pygments_lexer": "ipython3",
   "version": "3.8.8"
  }
 },
 "nbformat": 4,
 "nbformat_minor": 5
}
